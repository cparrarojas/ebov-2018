{
 "cells": [
  {
   "cell_type": "markdown",
   "metadata": {},
   "source": [
    "## 2018 Ebola outbreak in the DRC\n",
    "\n",
    "Reproducing [Christian Althaus' results](https://github.com/calthaus/Ebola/tree/master/DRC%20%28GitHub%202018%29) with a stochastic model.\n",
    "\n",
    "This notebook simply generates the data that will feed the accompanying interactive dashboard. For details on the estimation procedure itself, please refer to the [repository of `sdeparams`](https://github.com/cparrarojas/sde-parameter-estimation) and the examples therein."
   ]
  },
  {
   "cell_type": "code",
   "execution_count": 1,
   "metadata": {},
   "outputs": [],
   "source": [
    "import numpy as np\n",
    "import pandas as pd\n",
    "\n",
    "from scipy.integrate import odeint\n",
    "from scipy.optimize import differential_evolution\n",
    "\n",
    "import sdeparams.sdeparams as sdeparams\n",
    "\n",
    "import matplotlib.pyplot as plt\n",
    "import seaborn as sns\n",
    "%matplotlib inline\n",
    "plt.style.use('seaborn')\n",
    "sns.set(palette='colorblind')\n",
    "plt.rc('font', family='serif')\n",
    "plt.rc('text', usetex=True)\n",
    "plt.rcParams['xtick.labelsize'] = 16\n",
    "plt.rcParams['ytick.labelsize'] = 16\n",
    "ncolours = len(plt.rcParams['axes.prop_cycle'])\n",
    "colours = [list(plt.rcParams['axes.prop_cycle'])[i]['color'] for i in range(ncolours)]\n",
    "\n",
    "import warnings\n",
    "warnings.filterwarnings('ignore')"
   ]
  },
  {
   "cell_type": "markdown",
   "metadata": {},
   "source": [
    "### Model setup\n",
    "\n",
    "Matrices defining the linear-noise approximation."
   ]
  },
  {
   "cell_type": "code",
   "execution_count": 2,
   "metadata": {},
   "outputs": [],
   "source": [
    "ndim = 3\n",
    "N = 1.0e6\n",
    "sigma = 1./9.31\n",
    "gamma = 1./7.41\n",
    "tau = 28.\n",
    "\n",
    "def A(x, t, *params):\n",
    "    e0, i0, beta, k = params\n",
    "    s, e, i = np.maximum(x, np.zeros(ndim))\n",
    "    delta = np.maximum(t-tau,0)\n",
    "    return np.array([-beta*np.exp(-k*delta)*s*i/N, beta*np.exp(-k*delta)*s*i/N - sigma*e, sigma*e - gamma*i])\n",
    "\n",
    "def B(x, t, *params):\n",
    "    e0, i0, beta, k = params\n",
    "    s, e, i = np.maximum(x, np.zeros(ndim))\n",
    "    delta = np.maximum(t-tau,0)\n",
    "    return np.array([[beta*np.exp(-k*delta)*s*i/N, -beta*np.exp(-k*delta)*s*i/N, 0.],\n",
    "                     [-beta*s*np.exp(-k*delta)*i/N, beta*np.exp(-k*delta)*s*i/N + sigma*e, -sigma*e],\n",
    "                     [0., -sigma*e, sigma*e + gamma*i]])\n",
    "\n",
    "def J(x, t, *params):\n",
    "    e0, i0, beta, k = params\n",
    "    s, e, i = np.maximum(x, np.zeros(ndim))\n",
    "    delta = np.maximum(t-tau,0)\n",
    "    return np.array([[-beta*np.exp(-k*delta)*i/N, 0., -beta*np.exp(-k*delta)*s/N],\n",
    "                     [beta*np.exp(-k*delta)*i/N, -sigma, beta*np.exp(-k*delta)*s/N],\n",
    "                     [0., sigma, -gamma]])"
   ]
  },
  {
   "cell_type": "markdown",
   "metadata": {},
   "source": [
    "### Parameter estimation"
   ]
  },
  {
   "cell_type": "code",
   "execution_count": 4,
   "metadata": {},
   "outputs": [],
   "source": [
    "data = pd.read_csv('https://raw.githubusercontent.com/calthaus/Ebola/master/DRC%20(GitHub%202018)/Ebola_outbreak_DRC2018_data.csv')\n",
    "data.Date = pd.to_datetime(data.Date)"
   ]
  },
  {
   "cell_type": "code",
   "execution_count": 5,
   "metadata": {},
   "outputs": [
    {
     "data": {
      "text/html": [
       "<div>\n",
       "<style scoped>\n",
       "    .dataframe tbody tr th:only-of-type {\n",
       "        vertical-align: middle;\n",
       "    }\n",
       "\n",
       "    .dataframe tbody tr th {\n",
       "        vertical-align: top;\n",
       "    }\n",
       "\n",
       "    .dataframe thead th {\n",
       "        text-align: right;\n",
       "    }\n",
       "</style>\n",
       "<table border=\"1\" class=\"dataframe\">\n",
       "  <thead>\n",
       "    <tr style=\"text-align: right;\">\n",
       "      <th></th>\n",
       "      <th>Date</th>\n",
       "      <th>Cumulative</th>\n",
       "      <th>Cases</th>\n",
       "    </tr>\n",
       "  </thead>\n",
       "  <tbody>\n",
       "    <tr>\n",
       "      <th>0</th>\n",
       "      <td>2018-04-05</td>\n",
       "      <td>1</td>\n",
       "      <td>1</td>\n",
       "    </tr>\n",
       "    <tr>\n",
       "      <th>1</th>\n",
       "      <td>2018-04-06</td>\n",
       "      <td>1</td>\n",
       "      <td>0</td>\n",
       "    </tr>\n",
       "    <tr>\n",
       "      <th>2</th>\n",
       "      <td>2018-04-07</td>\n",
       "      <td>1</td>\n",
       "      <td>0</td>\n",
       "    </tr>\n",
       "    <tr>\n",
       "      <th>3</th>\n",
       "      <td>2018-04-08</td>\n",
       "      <td>2</td>\n",
       "      <td>1</td>\n",
       "    </tr>\n",
       "    <tr>\n",
       "      <th>4</th>\n",
       "      <td>2018-04-09</td>\n",
       "      <td>2</td>\n",
       "      <td>0</td>\n",
       "    </tr>\n",
       "  </tbody>\n",
       "</table>\n",
       "</div>"
      ],
      "text/plain": [
       "        Date  Cumulative  Cases\n",
       "0 2018-04-05           1      1\n",
       "1 2018-04-06           1      0\n",
       "2 2018-04-07           1      0\n",
       "3 2018-04-08           2      1\n",
       "4 2018-04-09           2      0"
      ]
     },
     "execution_count": 5,
     "metadata": {},
     "output_type": "execute_result"
    }
   ],
   "source": [
    "data.head()"
   ]
  },
  {
   "cell_type": "code",
   "execution_count": 6,
   "metadata": {},
   "outputs": [],
   "source": [
    "observations = (N - data.Cumulative.values, data.index.values)\n",
    "\n",
    "zimmer = sdeparams.Zimmer(A, B, J, observations, ndim, n_obs=1, estimate_N=False, N=1)"
   ]
  },
  {
   "cell_type": "code",
   "execution_count": 7,
   "metadata": {},
   "outputs": [],
   "source": [
    "bounds = [(0., 0.), (1., 1.), (0.1, 5.), (0.01, 2.)]\n",
    "\n",
    "estimation = differential_evolution(zimmer.costfn, bounds)"
   ]
  },
  {
   "cell_type": "markdown",
   "metadata": {},
   "source": [
    "Best fit parameters"
   ]
  },
  {
   "cell_type": "code",
   "execution_count": 8,
   "metadata": {},
   "outputs": [],
   "source": [
    "params_estim = tuple(estimation.x)"
   ]
  },
  {
   "cell_type": "code",
   "execution_count": 10,
   "metadata": {},
   "outputs": [
    {
     "data": {
      "text/plain": [
       "Text(0,0.5,'$R_t$')"
      ]
     },
     "execution_count": 10,
     "metadata": {},
     "output_type": "execute_result"
    },
    {
     "data": {
      "image/png": "[encoded data removed]",
      "text/plain": [
       "<Figure size 864x576 with 2 Axes>"
      ]
     },
     "metadata": {},
     "output_type": "display_data"
    }
   ],
   "source": [
    "fig, axes = plt.subplots(2,1, figsize=(12,8), sharex=True)\n",
    "axes[0].plot(observations[1],N-zimmer.reconstruct(params_estim)[:,0])\n",
    "axes[0].scatter(observations[1],N-observations[0],c=colours[2])\n",
    "axes[1].set_xticks(np.linspace(0,60,7))\n",
    "axes[1].set_xticklabels(data.Date.dt.strftime('%d %B').values[::10])\n",
    "axes[0].set_ylabel('cumulative incidence', fontsize=24)\n",
    "axes[1].plot(observations[1],(params_estim[2]/gamma)*np.exp(-params_estim[3]*np.maximum(observations[1]-tau,0)))\n",
    "axes[1].plot(observations[1],np.ones(observations[1].shape), c=colours[2], linestyle='--')\n",
    "axes[1].set_ylabel('$R_t$', fontsize=24)"
   ]
  },
  {
   "cell_type": "markdown",
   "metadata": {},
   "source": [
    "### Generating app data"
   ]
  },
  {
   "cell_type": "code",
   "execution_count": 9,
   "metadata": {},
   "outputs": [
    {
     "data": {
      "text/plain": [
       "(0.0, 1.0, 0.5925136453078155, 0.11722573760818489)"
      ]
     },
     "execution_count": 9,
     "metadata": {},
     "output_type": "execute_result"
    }
   ],
   "source": [
    "params_estim"
   ]
  },
  {
   "cell_type": "code",
   "execution_count": 164,
   "metadata": {},
   "outputs": [],
   "source": [
    "betas = np.linspace(.2,1.,50)\n",
    "ks = np.linspace(0.07,0.17,50)\n",
    "\n",
    "likelihood = []\n",
    "for b in betas:\n",
    "    for k in ks:\n",
    "        likelihood.append([b, k, np.exp(-zimmer.costfn((0.,1.,b,k)))])\n",
    "likelihood=np.array(likelihood)"
   ]
  },
  {
   "cell_type": "code",
   "execution_count": 165,
   "metadata": {},
   "outputs": [],
   "source": [
    "likelihood = np.vstack((likelihood, np.array([[params_estim[2], params_estim[3], np.exp(-zimmer.costfn(params_estim))]])))"
   ]
  },
  {
   "cell_type": "code",
   "execution_count": 166,
   "metadata": {},
   "outputs": [],
   "source": [
    "df_like = pd.DataFrame(likelihood, columns=['beta', 'k', 'likelihood'])\n",
    "df_like.likelihood = df_like.likelihood/(df_like.likelihood.sum())"
   ]
  },
  {
   "cell_type": "code",
   "execution_count": 167,
   "metadata": {},
   "outputs": [
    {
     "data": {
      "text/plain": [
       "<matplotlib.colorbar.Colorbar at 0x7f79c4cd0048>"
      ]
     },
     "execution_count": 167,
     "metadata": {},
     "output_type": "execute_result"
    },
    {
     "data": {
      "image/png": "[encoded data removed]",
      "text/plain": [
       "<Figure size 432x288 with 2 Axes>"
      ]
     },
     "metadata": {},
     "output_type": "display_data"
    }
   ],
   "source": [
    "points = plt.scatter(df_like.beta, df_like.k, c=df_like.likelihood/(df_like.likelihood.sum()), s=50)\n",
    "#plt.scatter([params_estim[2]],[params_estim[3]], marker='X', s=200)\n",
    "plt.xlim(0.2,1.)\n",
    "plt.ylim(0.07,0.17)\n",
    "plt.xlabel(r'$\\beta$', fontsize=20)\n",
    "plt.ylabel(r'$k$', fontsize=20)\n",
    "plt.title(r'likelihood', fontsize=25)\n",
    "plt.colorbar(points)"
   ]
  },
  {
   "cell_type": "code",
   "execution_count": 52,
   "metadata": {},
   "outputs": [],
   "source": [
    "def unit_vector(i, D):\n",
    "    '''Returns (i+1)-th unit vector of dimension D'''\n",
    "    out = np.zeros(D)\n",
    "    out[i] = 1\n",
    "    return out\n",
    "\n",
    "def transition_rates(x, beta_t):\n",
    "    '''Transition rates for every possible reaction'''\n",
    "    return np.array([beta_t*x[0]*x[2]/N, \n",
    "                     sigma*x[1], \n",
    "                     gamma*x[2]])\n",
    "\n",
    "nu = np.array([unit_vector(1, ndim) - unit_vector(0, ndim), unit_vector(2, ndim) - unit_vector(1, ndim),\n",
    "               -unit_vector(2, ndim)], dtype=int)"
   ]
  },
  {
   "cell_type": "code",
   "execution_count": 53,
   "metadata": {},
   "outputs": [],
   "source": [
    "def path(x, t, beta_t):\n",
    "    dt = t[1]-t[0]\n",
    "    x_t = []\n",
    "    for i in range(len(t)):\n",
    "        x_t.append(x)\n",
    "        rates = transition_rates(x, beta_t[i])\n",
    "        n = len(rates)\n",
    "        firings = np.random.poisson(np.maximum(rates, np.zeros(n))*dt)\n",
    "        change = np.sum([firings[i]*nu[i] for i in range(len(rates))], axis=0)\n",
    "        x = x + change\n",
    "        \n",
    "    x_t = np.array(x_t)\n",
    "    \n",
    "    return x_t"
   ]
  },
  {
   "cell_type": "code",
   "execution_count": 117,
   "metadata": {},
   "outputs": [],
   "source": [
    "t_forecast = np.linspace(66.,100.,17000)\n",
    "newdays = t_forecast[::500].astype(int)\n",
    "alldays = np.append(observations[1], newdays)"
   ]
  },
  {
   "cell_type": "code",
   "execution_count": 171,
   "metadata": {},
   "outputs": [],
   "source": [
    "def R_t(beta, k, t):\n",
    "    if t <= tau:\n",
    "        return beta/gamma\n",
    "    return beta*np.exp(-k*(t-tau))/gamma\n",
    "R_t = np.vectorize(R_t)"
   ]
  },
  {
   "cell_type": "code",
   "execution_count": 201,
   "metadata": {},
   "outputs": [],
   "source": [
    "app_data = pd.DataFrame()\n",
    "for i, row in df_like.iterrows():\n",
    "    \n",
    "    beta = row.beta\n",
    "    k = row.k\n",
    "    l = row.likelihood\n",
    "    \n",
    "    app_data_new = pd.DataFrame({'time': alldays, 'beta': beta*np.ones(len(alldays)), 'k': k*np.ones(len(alldays)),\n",
    "                             'likelihood': l*np.ones(len(alldays)), 'R_t': R_t(beta, k, alldays)})\n",
    "    \n",
    "    beta_t = beta*np.exp(-k*(t_forecast-tau))\n",
    "    \n",
    "    params = (0.,1.,beta,k)\n",
    "    reconstruct = zimmer.reconstruct(params).astype(int)\n",
    "    x0 = [observations[0][-1], reconstruct[-1,1], reconstruct[-1,2]]\n",
    "    \n",
    "    results_s = pd.DataFrame(index=newdays)\n",
    "    results_e = pd.DataFrame(index=newdays)\n",
    "    results_i = pd.DataFrame(index=newdays)\n",
    "\n",
    "    for j in range(50):\n",
    "    \n",
    "        forecast = path(x0, t_forecast, beta_t)[::500]\n",
    "    \n",
    "        results_s[str(j)] = forecast[:,0]\n",
    "        results_e[str(j)] = forecast[:,1]\n",
    "        results_i[str(j)] = forecast[:,2]\n",
    "        \n",
    "    app_data_new['cumulative'] = N - np.concatenate((reconstruct[:,0],results_s.mean(axis=1).values))\n",
    "    app_data_new['cumulative p'] = N - np.concatenate((reconstruct[:,0],(results_s.mean(axis=1)-results_s.std(axis=1)).values))\n",
    "    app_data_new['cumulative m'] = N - np.concatenate((reconstruct[:,0],(results_s.mean(axis=1)+results_s.std(axis=1)).values))\n",
    "    app_data_new['E'] = np.concatenate((reconstruct[:,1],(results_e.mean(axis=1)).values))\n",
    "    app_data_new['E p'] = np.concatenate((reconstruct[:,1],(results_e.mean(axis=1)+results_e.std(axis=1)).values))\n",
    "    app_data_new['E m'] = np.concatenate((reconstruct[:,1],np.maximum((results_e.mean(axis=1)-results_e.std(axis=1)).values, 0)))\n",
    "    app_data_new['I'] = np.concatenate((reconstruct[:,2],(results_i.mean(axis=1)).values))\n",
    "    app_data_new['I p'] = np.concatenate((reconstruct[:,2],(results_i.mean(axis=1)+results_i.std(axis=1)).values))\n",
    "    app_data_new['I m'] = np.concatenate((reconstruct[:,2],np.maximum((results_i.mean(axis=1)-results_i.std(axis=1)).values, 0)))\n",
    "    \n",
    "    app_data = pd.concat([app_data, app_data_new], axis=0)"
   ]
  },
  {
   "cell_type": "code",
   "execution_count": 202,
   "metadata": {},
   "outputs": [],
   "source": [
    "app_data.to_csv('app_data.csv', index=False)"
   ]
  },
  {
   "cell_type": "code",
   "execution_count": 203,
   "metadata": {},
   "outputs": [],
   "source": [
    "df_like.to_csv('likelihood.csv', index=False)"
   ]
  },
  {
   "cell_type": "code",
   "execution_count": null,
   "metadata": {},
   "outputs": [],
   "source": []
  }
 ],
 "metadata": {
  "kernelspec": {
   "display_name": "Python 3",
   "language": "python",
   "name": "python3"
  },
  "language_info": {
   "codemirror_mode": {
    "name": "ipython",
    "version": 3
   },
   "file_extension": ".py",
   "mimetype": "text/x-python",
   "name": "python",
   "nbconvert_exporter": "python",
   "pygments_lexer": "ipython3",
   "version": "3.6.4"
  }
 },
 "nbformat": 4,
 "nbformat_minor": 2
}
