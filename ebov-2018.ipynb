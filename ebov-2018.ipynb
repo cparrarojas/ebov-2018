{
 "cells": [
  {
   "cell_type": "markdown",
   "metadata": {},
   "source": [
    "## 2018 Ebola outbreak in the DRC\n",
    "\n",
    "Reproducing [Christian Althaus' results](https://github.com/calthaus/Ebola/tree/master/DRC%20%28GitHub%202018%29) with a stochastic model.\n",
    "\n",
    "This notebook simply generates the data that will feed the accompanying interactive dashboard. For details on the estimation procedure itself, please refer to the [repository of `sdeparams`](https://github.com/cparrarojas/sde-parameter-estimation) and the examples therein."
   ]
  },
  {
   "cell_type": "code",
   "execution_count": 1,
   "metadata": {},
   "outputs": [],
   "source": [
    "import numpy as np\n",
    "import pandas as pd\n",
    "\n",
    "from scipy.integrate import odeint\n",
    "from scipy.optimize import differential_evolution\n",
    "\n",
    "import sdeparams.sdeparams as sdeparams\n",
    "\n",
    "import matplotlib.pyplot as plt\n",
    "import seaborn as sns\n",
    "%matplotlib inline\n",
    "plt.style.use('seaborn')\n",
    "sns.set(palette='colorblind')\n",
    "plt.rc('font', family='serif')\n",
    "plt.rc('text', usetex=True)\n",
    "plt.rcParams['xtick.labelsize'] = 16\n",
    "plt.rcParams['ytick.labelsize'] = 16\n",
    "ncolours = len(plt.rcParams['axes.prop_cycle'])\n",
    "colours = [list(plt.rcParams['axes.prop_cycle'])[i]['color'] for i in range(ncolours)]\n",
    "\n",
    "import warnings\n",
    "warnings.filterwarnings('ignore')"
   ]
  },
  {
   "cell_type": "markdown",
   "metadata": {},
   "source": [
    "### Model setup\n",
    "\n",
    "Matrices defining the linear-noise approximation."
   ]
  },
  {
   "cell_type": "code",
   "execution_count": 2,
   "metadata": {},
   "outputs": [],
   "source": [
    "ndim = 3\n",
    "N = 1.0e6\n",
    "sigma = 1./9.31\n",
    "gamma = 1./7.41\n",
    "tau = 28.\n",
    "\n",
    "def A(x, t, *params):\n",
    "    e0, i0, beta, k = params\n",
    "    s, e, i = np.maximum(x, np.zeros(ndim))\n",
    "    delta = np.maximum(t-tau,0)\n",
    "    return np.array([-beta*np.exp(-k*delta)*s*i/N, beta*np.exp(-k*delta)*s*i/N - sigma*e, sigma*e - gamma*i])\n",
    "\n",
    "def B(x, t, *params):\n",
    "    e0, i0, beta, k = params\n",
    "    s, e, i = np.maximum(x, np.zeros(ndim))\n",
    "    delta = np.maximum(t-tau,0)\n",
    "    return np.array([[beta*np.exp(-k*delta)*s*i/N, -beta*np.exp(-k*delta)*s*i/N, 0.],\n",
    "                     [-beta*s*np.exp(-k*delta)*i/N, beta*np.exp(-k*delta)*s*i/N + sigma*e, -sigma*e],\n",
    "                     [0., -sigma*e, sigma*e + gamma*i]])\n",
    "\n",
    "def J(x, t, *params):\n",
    "    e0, i0, beta, k = params\n",
    "    s, e, i = np.maximum(x, np.zeros(ndim))\n",
    "    delta = np.maximum(t-tau,0)\n",
    "    return np.array([[-beta*np.exp(-k*delta)*i/N, 0., -beta*np.exp(-k*delta)*s/N],\n",
    "                     [beta*np.exp(-k*delta)*i/N, -sigma, beta*np.exp(-k*delta)*s/N],\n",
    "                     [0., sigma, -gamma]])"
   ]
  },
  {
   "cell_type": "markdown",
   "metadata": {},
   "source": [
    "The function below returns one realisation of the (full) SDEs"
   ]
  },
  {
   "cell_type": "code",
   "execution_count": 3,
   "metadata": {},
   "outputs": [],
   "source": [
    "def path(x, t, *params):\n",
    "    dt = t[1]-t[0]\n",
    "    \n",
    "    x_t = []\n",
    "    \n",
    "    x_0 = x.copy()\n",
    "    for time in t:\n",
    "        x_t.append(x_0.copy())\n",
    "        y = A(x_0, time, *params)*dt + np.sqrt(dt)*np.random.multivariate_normal(np.zeros(ndim), B(x_0, time, *params))\n",
    "        x_0 += np.maximum(y, -np.array(x_0))\n",
    "            \n",
    "    return np.array(x_t)"
   ]
  },
  {
   "cell_type": "markdown",
   "metadata": {},
   "source": [
    "### Parameter estimation"
   ]
  },
  {
   "cell_type": "code",
   "execution_count": 4,
   "metadata": {},
   "outputs": [],
   "source": [
    "data = pd.read_csv('https://raw.githubusercontent.com/calthaus/Ebola/master/DRC%20(GitHub%202018)/Ebola_outbreak_DRC2018_data.csv')\n",
    "data.Date = pd.to_datetime(data.Date)"
   ]
  },
  {
   "cell_type": "code",
   "execution_count": 5,
   "metadata": {},
   "outputs": [
    {
     "data": {
      "text/html": [
       "<div>\n",
       "<style scoped>\n",
       "    .dataframe tbody tr th:only-of-type {\n",
       "        vertical-align: middle;\n",
       "    }\n",
       "\n",
       "    .dataframe tbody tr th {\n",
       "        vertical-align: top;\n",
       "    }\n",
       "\n",
       "    .dataframe thead th {\n",
       "        text-align: right;\n",
       "    }\n",
       "</style>\n",
       "<table border=\"1\" class=\"dataframe\">\n",
       "  <thead>\n",
       "    <tr style=\"text-align: right;\">\n",
       "      <th></th>\n",
       "      <th>Date</th>\n",
       "      <th>Cumulative</th>\n",
       "      <th>Cases</th>\n",
       "    </tr>\n",
       "  </thead>\n",
       "  <tbody>\n",
       "    <tr>\n",
       "      <th>0</th>\n",
       "      <td>2018-04-05</td>\n",
       "      <td>1</td>\n",
       "      <td>1</td>\n",
       "    </tr>\n",
       "    <tr>\n",
       "      <th>1</th>\n",
       "      <td>2018-04-06</td>\n",
       "      <td>1</td>\n",
       "      <td>0</td>\n",
       "    </tr>\n",
       "    <tr>\n",
       "      <th>2</th>\n",
       "      <td>2018-04-07</td>\n",
       "      <td>1</td>\n",
       "      <td>0</td>\n",
       "    </tr>\n",
       "    <tr>\n",
       "      <th>3</th>\n",
       "      <td>2018-04-08</td>\n",
       "      <td>2</td>\n",
       "      <td>1</td>\n",
       "    </tr>\n",
       "    <tr>\n",
       "      <th>4</th>\n",
       "      <td>2018-04-09</td>\n",
       "      <td>2</td>\n",
       "      <td>0</td>\n",
       "    </tr>\n",
       "  </tbody>\n",
       "</table>\n",
       "</div>"
      ],
      "text/plain": [
       "        Date  Cumulative  Cases\n",
       "0 2018-04-05           1      1\n",
       "1 2018-04-06           1      0\n",
       "2 2018-04-07           1      0\n",
       "3 2018-04-08           2      1\n",
       "4 2018-04-09           2      0"
      ]
     },
     "execution_count": 5,
     "metadata": {},
     "output_type": "execute_result"
    }
   ],
   "source": [
    "data.head()"
   ]
  },
  {
   "cell_type": "code",
   "execution_count": 6,
   "metadata": {},
   "outputs": [],
   "source": [
    "observations = (N - data.Cumulative.values, data.index.values)\n",
    "\n",
    "zimmer = sdeparams.Zimmer(A, B, J, observations, ndim, n_obs=1, estimate_N=False, N=1)"
   ]
  },
  {
   "cell_type": "code",
   "execution_count": 7,
   "metadata": {},
   "outputs": [],
   "source": [
    "bounds = [(0., 0.), (1., 1.), (0.1, 5.), (0.01, 2.)]\n",
    "\n",
    "estimation = differential_evolution(zimmer.costfn, bounds)"
   ]
  },
  {
   "cell_type": "markdown",
   "metadata": {},
   "source": [
    "Best fit parameters"
   ]
  },
  {
   "cell_type": "code",
   "execution_count": 8,
   "metadata": {},
   "outputs": [],
   "source": [
    "params_estim = tuple(estimation.x)"
   ]
  },
  {
   "cell_type": "code",
   "execution_count": 10,
   "metadata": {},
   "outputs": [
    {
     "data": {
      "text/plain": [
       "Text(0,0.5,'$R_t$')"
      ]
     },
     "execution_count": 10,
     "metadata": {},
     "output_type": "execute_result"
    },
    {
     "data": {
      "image/png": "[encoded data removed]",
      "text/plain": [
       "<Figure size 864x576 with 2 Axes>"
      ]
     },
     "metadata": {},
     "output_type": "display_data"
    }
   ],
   "source": [
    "fig, axes = plt.subplots(2,1, figsize=(12,8), sharex=True)\n",
    "axes[0].plot(observations[1],N-zimmer.reconstruct(params_estim)[:,0])\n",
    "axes[0].scatter(observations[1],N-observations[0],c=colours[2])\n",
    "axes[1].set_xticks(np.linspace(0,60,7))\n",
    "axes[1].set_xticklabels(data.Date.dt.strftime('%d %B').values[::10])\n",
    "axes[0].set_ylabel('cumulative incidence', fontsize=24)\n",
    "axes[1].plot(observations[1],(params_estim[2]/gamma)*np.exp(-params_estim[3]*np.maximum(observations[1]-tau,0)))\n",
    "axes[1].plot(observations[1],np.ones(observations[1].shape), c=colours[2], linestyle='--')\n",
    "axes[1].set_ylabel('$R_t$', fontsize=24)"
   ]
  }
 ],
 "metadata": {
  "kernelspec": {
   "display_name": "Python 3",
   "language": "python",
   "name": "python3"
  },
  "language_info": {
   "codemirror_mode": {
    "name": "ipython",
    "version": 3
   },
   "file_extension": ".py",
   "mimetype": "text/x-python",
   "name": "python",
   "nbconvert_exporter": "python",
   "pygments_lexer": "ipython3",
   "version": "3.6.2"
  }
 },
 "nbformat": 4,
 "nbformat_minor": 2
}
